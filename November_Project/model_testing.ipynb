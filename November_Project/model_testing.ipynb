{
 "cells": [
  {
   "cell_type": "code",
   "execution_count": 1,
   "metadata": {
    "ExecuteTime": {
     "end_time": "2024-12-30T03:34:10.967010Z",
     "start_time": "2024-12-30T03:34:10.807541Z"
    }
   },
   "outputs": [],
   "source": [
    "import numpy as np\n",
    "from Options import Option\n",
    "from binomial_model import Binomial_Model\n",
    "from black_scholes import Black_Scholes_Model"
   ]
  },
  {
   "cell_type": "markdown",
   "metadata": {},
   "source": [
    "The following code is for creating an options valuation pricing model."
   ]
  },
  {
   "cell_type": "code",
   "execution_count": 2,
   "metadata": {
    "ExecuteTime": {
     "end_time": "2024-12-30T03:34:43.590561Z",
     "start_time": "2024-12-30T03:34:43.586901Z"
    }
   },
   "outputs": [],
   "source": [
    "# using the example from investopedia\n",
    "\n",
    "# https://www.investopedia.com/terms/b/binomialoptionpricing.asp\n",
    "\n",
    "stock_price = 100\n",
    "strike_price = 100\n",
    "risk_free_rate = 0.03\n",
    "N = 1\n",
    "T = 1/12\n",
    "u = 1.1\n",
    "d = 0.9\n",
    "option_type = 'call'"
   ]
  },
  {
   "cell_type": "markdown",
   "metadata": {},
   "source": [
    "calculating sigma as it was not given. note that if u and d are given, we should use the EXACT values.\n",
    "sometimes sigma is given and this is not necessary"
   ]
  },
  {
   "cell_type": "code",
   "execution_count": 3,
   "metadata": {},
   "outputs": [],
   "source": [
    "sigma = np.log(u)/np.sqrt(T)\n",
    "\n",
    "option = Option(stock_price, strike_price, risk_free_rate, T, sigma, option_type)\n",
    "binomial = Binomial_Model(option, N, u, d)"
   ]
  },
  {
   "cell_type": "code",
   "execution_count": 4,
   "metadata": {
    "ExecuteTime": {
     "end_time": "2024-12-30T03:34:44.039602Z",
     "start_time": "2024-12-30T03:34:44.036359Z"
    }
   },
   "outputs": [
    {
     "data": {
      "text/plain": [
       "5.11"
      ]
     },
     "execution_count": 4,
     "metadata": {},
     "output_type": "execute_result"
    }
   ],
   "source": [
    "binomial.price()"
   ]
  },
  {
   "cell_type": "code",
   "execution_count": 5,
   "metadata": {
    "ExecuteTime": {
     "end_time": "2024-12-30T03:34:10.978863Z",
     "start_time": "2024-12-30T03:34:10.977215Z"
    }
   },
   "outputs": [],
   "source": [
    "# using the example from the following website:\n",
    "\n",
    "# https://navi.com/blog/black-scholes-model/\n",
    "\n",
    "# we are trying to check whether an option that costs $4.5 is valued fairly\n",
    "stock_price = 52\n",
    "strike_price = 50\n",
    "risk_free_rate = 0.05\n",
    "T = 1/2\n",
    "sigma = 0.12\n",
    "option_type = 'call'\n"
   ]
  },
  {
   "cell_type": "code",
   "execution_count": 6,
   "metadata": {},
   "outputs": [
    {
     "data": {
      "text/plain": [
       "3.79"
      ]
     },
     "execution_count": 6,
     "metadata": {},
     "output_type": "execute_result"
    }
   ],
   "source": [
    "option = Option(stock_price, strike_price, risk_free_rate, T, sigma, option_type)\n",
    "black_scholes = Black_Scholes_Model(option)\n",
    "black_scholes.calculate_price()"
   ]
  },
  {
   "cell_type": "code",
   "execution_count": null,
   "metadata": {},
   "outputs": [],
   "source": []
  }
 ],
 "metadata": {
  "kernelspec": {
   "display_name": "base",
   "language": "python",
   "name": "python3"
  },
  "language_info": {
   "codemirror_mode": {
    "name": "ipython",
    "version": 3
   },
   "file_extension": ".py",
   "mimetype": "text/x-python",
   "name": "python",
   "nbconvert_exporter": "python",
   "pygments_lexer": "ipython3",
   "version": "3.12.2"
  }
 },
 "nbformat": 4,
 "nbformat_minor": 2
}
