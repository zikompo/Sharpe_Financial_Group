{
 "cells": [
  {
   "cell_type": "code",
   "metadata": {
    "ExecuteTime": {
     "end_time": "2024-12-30T03:34:10.967010Z",
     "start_time": "2024-12-30T03:34:10.807541Z"
    }
   },
   "source": [
    "import numpy as np\n",
    "from Options import Option\n",
    "from binomial_model import Binomial_Model"
   ],
   "outputs": [],
   "execution_count": 1
  },
  {
   "cell_type": "markdown",
   "metadata": {},
   "source": [
    "The following code is for creating an options valuation pricing model."
   ]
  },
  {
   "cell_type": "code",
   "metadata": {
    "ExecuteTime": {
     "end_time": "2024-12-30T03:34:43.590561Z",
     "start_time": "2024-12-30T03:34:43.586901Z"
    }
   },
   "source": [
    "# using the example from investopedia\n",
    "\n",
    "# https://www.investopedia.com/terms/b/binomialoptionpricing.asp\n",
    "\n",
    "stock_price = 100\n",
    "strike_price = 100\n",
    "risk_free_rate = 0.03\n",
    "N = 1\n",
    "T = 1/12\n",
    "u = 1.1\n",
    "d = 0.9\n",
    "option_type = 'call'"
   ],
   "outputs": [
    {
     "name": "stdout",
     "output_type": "stream",
     "text": [
      "0.3301641477992318\n"
     ]
    }
   ],
   "execution_count": 9
  },
  {
   "metadata": {},
   "cell_type": "markdown",
   "source": [
    "calculating sigma as it was not given. note that if u and d are given, we should use the EXACT values.\n",
    "sometimes sigma is given and this is not necessary"
   ]
  },
  {
   "metadata": {},
   "cell_type": "code",
   "outputs": [],
   "execution_count": null,
   "source": [
    "sigma = np.log(u)/np.sqrt(T)\n",
    "\n",
    "option = Option(stock_price, strike_price, risk_free_rate, T, sigma, option_type)\n",
    "binomial = Binomial_Model(option, N, u, d)"
   ]
  },
  {
   "cell_type": "code",
   "metadata": {
    "ExecuteTime": {
     "end_time": "2024-12-30T03:34:44.039602Z",
     "start_time": "2024-12-30T03:34:44.036359Z"
    }
   },
   "source": [
    "binomial.price()"
   ],
   "outputs": [
    {
     "data": {
      "text/plain": [
       "5.112359492114303"
      ]
     },
     "execution_count": 10,
     "metadata": {},
     "output_type": "execute_result"
    }
   ],
   "execution_count": 10
  },
  {
   "cell_type": "code",
   "metadata": {
    "ExecuteTime": {
     "end_time": "2024-12-30T03:34:10.978863Z",
     "start_time": "2024-12-30T03:34:10.977215Z"
    }
   },
   "source": [],
   "outputs": [],
   "execution_count": 3
  }
 ],
 "metadata": {
  "kernelspec": {
   "display_name": "base",
   "language": "python",
   "name": "python3"
  },
  "language_info": {
   "codemirror_mode": {
    "name": "ipython",
    "version": 3
   },
   "file_extension": ".py",
   "mimetype": "text/x-python",
   "name": "python",
   "nbconvert_exporter": "python",
   "pygments_lexer": "ipython3",
   "version": "3.12.2"
  }
 },
 "nbformat": 4,
 "nbformat_minor": 2
}
